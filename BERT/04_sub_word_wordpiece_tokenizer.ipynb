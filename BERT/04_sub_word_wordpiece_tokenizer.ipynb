{
 "cells": [
  {
   "cell_type": "code",
   "execution_count": 8,
   "id": "4494a3bc-c7d0-46af-95f3-574785a807c5",
   "metadata": {},
   "outputs": [],
   "source": [
    "s1='albums sold 500,000 copies'\n",
    "s2='technically perfect,melodically correct'\n",
    "s3='featuring a previously unheard track'\n",
    "s4='best-selling music artist'\n",
    "s5='s1 d1 o1 and o2'\n",
    "s6='asbofwheohweqke'"
   ]
  },
  {
   "cell_type": "markdown",
   "id": "204b9084-e8f5-4ff9-828c-0e9580beb9ad",
   "metadata": {},
   "source": [
    "# 实例化tokenzier"
   ]
  },
  {
   "cell_type": "code",
   "execution_count": 9,
   "id": "3b0d315c-73dc-4e9d-95f6-afd50654dbf5",
   "metadata": {},
   "outputs": [],
   "source": [
    "from transformers import BertTokenizer"
   ]
  },
  {
   "cell_type": "code",
   "execution_count": 10,
   "id": "2720a7ee-8dad-43dd-91fe-9fa110a71cb6",
   "metadata": {},
   "outputs": [],
   "source": [
    "model_name='bert-base-uncased'\n",
    "tokenizer=BertTokenizer.from_pretrained(model_name)"
   ]
  },
  {
   "cell_type": "markdown",
   "id": "90ec7873-977f-493b-b195-e129f4080fe0",
   "metadata": {},
   "source": [
    "# vocab\n",
    "- tokenizer.vocab vs. tokenizer.ids_to_tokens\n",
    "- len(tokenizer.vocab)==30522"
   ]
  },
  {
   "cell_type": "code",
   "execution_count": 11,
   "id": "9a388eed-118e-49c3-ba76-8768137df3bc",
   "metadata": {},
   "outputs": [
    {
     "data": {
      "text/plain": [
       "30522"
      ]
     },
     "execution_count": 11,
     "metadata": {},
     "output_type": "execute_result"
    }
   ],
   "source": [
    "len(tokenizer.vocab)"
   ]
  },
  {
   "cell_type": "code",
   "execution_count": 12,
   "id": "2bc054f6-bb2e-4fd9-b06d-5fd5c538b03a",
   "metadata": {},
   "outputs": [
    {
     "data": {
      "text/plain": [
       "100"
      ]
     },
     "execution_count": 12,
     "metadata": {},
     "output_type": "execute_result"
    }
   ],
   "source": [
    "tokenizer.vocab['[UNK]']"
   ]
  },
  {
   "cell_type": "markdown",
   "id": "dcda3f8c-d475-4832-a688-661f5f1e31fa",
   "metadata": {},
   "source": [
    "# 样本子词测试"
   ]
  },
  {
   "cell_type": "code",
   "execution_count": 13,
   "id": "58a60b62-eb57-4398-a5c7-14fc16a3e9a1",
   "metadata": {},
   "outputs": [
    {
     "name": "stdout",
     "output_type": "stream",
     "text": [
      "{'input_ids': [101, 4042, 2853, 3156, 1010, 2199, 4809, 102], 'token_type_ids': [0, 0, 0, 0, 0, 0, 0, 0], 'attention_mask': [1, 1, 1, 1, 1, 1, 1, 1]}\n",
      "['[CLS]', 'albums', 'sold', '500', ',', '000', 'copies', '[SEP]']\n"
     ]
    }
   ],
   "source": [
    "inputs=tokenizer(s1)\n",
    "print(inputs)\n",
    "print(tokenizer.convert_ids_to_tokens(inputs.get('input_ids')))"
   ]
  },
  {
   "cell_type": "markdown",
   "id": "a8a60550-29db-4fc8-a205-70174b3e1e59",
   "metadata": {},
   "source": [
    "# summary"
   ]
  },
  {
   "cell_type": "markdown",
   "id": "556a0938-4f1e-4e1e-96db-4c719668ad58",
   "metadata": {},
   "source": [
    "- tokenizer 轻易不会将一个词处理为`[UNK](100)`\n",
    "- 基于词汇表，tokenize,encode,decode 一体\n",
    "    - tokenize:word=>token(s)，将word尽可能映射为vocab中的keys\n",
    "    - encode:token=>id\n",
    "    - decode:id =>token=>word\n",
    "        - encode完了之后也不是终点（word）,decode还要能很好的将id还原，尽可能与输入的word对齐。"
   ]
  },
  {
   "cell_type": "code",
   "execution_count": null,
   "id": "f2d94938-f121-4919-8129-188ed3f6c150",
   "metadata": {},
   "outputs": [],
   "source": []
  }
 ],
 "metadata": {
  "kernelspec": {
   "display_name": "Python (3.10Venv)",
   "language": "python",
   "name": "venv"
  },
  "language_info": {
   "codemirror_mode": {
    "name": "ipython",
    "version": 3
   },
   "file_extension": ".py",
   "mimetype": "text/x-python",
   "name": "python",
   "nbconvert_exporter": "python",
   "pygments_lexer": "ipython3",
   "version": "3.10.5"
  }
 },
 "nbformat": 4,
 "nbformat_minor": 5
}
