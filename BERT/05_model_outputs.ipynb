{
 "cells": [
  {
   "cell_type": "code",
   "execution_count": 2,
   "id": "cdb868cb-c959-4389-8c42-d0a7e76fdeb9",
   "metadata": {},
   "outputs": [],
   "source": [
    "import torch\n",
    "from torch import nn\n",
    "from transformers import BertModel,BertTokenizer"
   ]
  },
  {
   "cell_type": "code",
   "execution_count": 3,
   "id": "64f897de-5263-4f19-8a12-87b017fe6d16",
   "metadata": {},
   "outputs": [],
   "source": [
    "model_name='bert-base-uncased'\n",
    "tokenizer=BertTokenizer.from_pretrained(model_name)\n",
    "model=BertModel.from_pretrained(model_name,output_hidden_states=True)"
   ]
  },
  {
   "cell_type": "code",
   "execution_count": 4,
   "id": "7e42b3bc-21cf-4b6f-b572-64abd0d507c7",
   "metadata": {},
   "outputs": [],
   "source": [
    "text=\"After stealing money from the bank vault,the bank robber was seen \"\\\n",
    "\"fishing on the Mississippi river bank.\""
   ]
  },
  {
   "cell_type": "code",
   "execution_count": 5,
   "id": "7dd241ed-cc78-4513-aea3-f4380cba60c8",
   "metadata": {},
   "outputs": [],
   "source": [
    "token_input=tokenizer(text,return_tensors='pt')"
   ]
  },
  {
   "cell_type": "code",
   "execution_count": 6,
   "id": "2ea86170-2235-4b59-a2a5-b4a2493529b7",
   "metadata": {},
   "outputs": [
    {
     "data": {
      "text/plain": [
       "{'input_ids': tensor([[  101,  2044, 11065,  2769,  2013,  1996,  2924, 11632,  1010,  1996,\n",
       "          2924, 27307,  2001,  2464,  5645,  2006,  1996,  5900,  2314,  2924,\n",
       "          1012,   102]]), 'token_type_ids': tensor([[0, 0, 0, 0, 0, 0, 0, 0, 0, 0, 0, 0, 0, 0, 0, 0, 0, 0, 0, 0, 0, 0]]), 'attention_mask': tensor([[1, 1, 1, 1, 1, 1, 1, 1, 1, 1, 1, 1, 1, 1, 1, 1, 1, 1, 1, 1, 1, 1]])}"
      ]
     },
     "execution_count": 6,
     "metadata": {},
     "output_type": "execute_result"
    }
   ],
   "source": [
    "token_input"
   ]
  },
  {
   "cell_type": "code",
   "execution_count": 7,
   "id": "2ce93644-db27-4fdf-8602-0daaf8f65da8",
   "metadata": {},
   "outputs": [
    {
     "data": {
      "text/plain": [
       "(tensor([[  101,  2044, 11065,  2769,  2013,  1996,  2924, 11632,  1010,  1996,\n",
       "           2924, 27307,  2001,  2464,  5645,  2006,  1996,  5900,  2314,  2924,\n",
       "           1012,   102]]),\n",
       " torch.Size([1, 22]))"
      ]
     },
     "execution_count": 7,
     "metadata": {},
     "output_type": "execute_result"
    }
   ],
   "source": [
    "token_input['input_ids'],token_input['input_ids'].shape"
   ]
  },
  {
   "cell_type": "markdown",
   "id": "dfb35baf-6232-4302-b228-e74bddbe0cb8",
   "metadata": {},
   "source": [
    "- batch_size=1,只有一个句子，序列长度为22（未truncate及padding）"
   ]
  },
  {
   "cell_type": "markdown",
   "id": "acd78f98-9c54-44ae-837e-6958a571262a",
   "metadata": {},
   "source": [
    "# model forward"
   ]
  },
  {
   "cell_type": "markdown",
   "id": "ecf055fd-caf4-40f9-ba28-0134cf604bb7",
   "metadata": {},
   "source": [
    "- forward\n",
    "  - embedding->encoder->pooler"
   ]
  },
  {
   "cell_type": "code",
   "execution_count": 8,
   "id": "3768dafe-1d9b-4852-9998-f0a2eaad343d",
   "metadata": {},
   "outputs": [
    {
     "name": "stderr",
     "output_type": "stream",
     "text": [
      "D:\\pycharm\\PyTorchDemo\\venv\\lib\\site-packages\\torch\\nn\\modules\\module.py:1762: FutureWarning: `encoder_attention_mask` is deprecated and will be removed in version 4.55.0 for `BertSdpaSelfAttention.forward`.\n",
      "  return forward_call(*args, **kwargs)\n"
     ]
    }
   ],
   "source": [
    "model.eval()\n",
    "with torch.no_grad():\n",
    "    outputs=model(**token_input)"
   ]
  },
  {
   "cell_type": "markdown",
   "id": "0247769f-0225-4079-8512-37c757e89b37",
   "metadata": {},
   "source": [
    "# output\n",
    "- len(outputs)==3\n",
    "- outputs[0]\n",
    "  - last_hidden_state,shape:batch_size\\*seq_len\\*hidden_size(1\\*22\\*768)\n",
    "- outputs[1]\n",
    "  - pooler_output,shape:batch_size\\*hidden_size(1\\*768)\n",
    "  - Last layer hidden-state of the first token of the sequence (classification token,[CLS])\n",
    "- output[2](model.config.output_hidden_states=True))\n",
    "  - type:tuple\n",
    "  - one for the output of the embeddings(1),if the model has an embedding layer(12),+ one for the output of each layer\n",
    "      - (1+12)\\*(batch_size\\*seq_len\\*hidden_size)=13\\*1\\*22\\*768"
   ]
  },
  {
   "cell_type": "code",
   "execution_count": 12,
   "id": "57bd22d3-c030-4c5f-8dfe-ad7ecfb8d872",
   "metadata": {},
   "outputs": [
    {
     "data": {
      "text/plain": [
       "3"
      ]
     },
     "execution_count": 12,
     "metadata": {},
     "output_type": "execute_result"
    }
   ],
   "source": [
    "len(outputs)"
   ]
  },
  {
   "cell_type": "code",
   "execution_count": 13,
   "id": "7cbc6afa-531f-46f9-b0d6-23edcd57f457",
   "metadata": {},
   "outputs": [
    {
     "data": {
      "text/plain": [
       "(tuple, 13)"
      ]
     },
     "execution_count": 13,
     "metadata": {},
     "output_type": "execute_result"
    }
   ],
   "source": [
    "type(outputs[2]),len(outputs[2])"
   ]
  },
  {
   "cell_type": "code",
   "execution_count": 14,
   "id": "4ef4feca-ee22-4902-ad01-e239416ecaed",
   "metadata": {},
   "outputs": [
    {
     "data": {
      "text/plain": [
       "tensor([[[True, True, True,  ..., True, True, True],\n",
       "         [True, True, True,  ..., True, True, True],\n",
       "         [True, True, True,  ..., True, True, True],\n",
       "         ...,\n",
       "         [True, True, True,  ..., True, True, True],\n",
       "         [True, True, True,  ..., True, True, True],\n",
       "         [True, True, True,  ..., True, True, True]]])"
      ]
     },
     "execution_count": 14,
     "metadata": {},
     "output_type": "execute_result"
    }
   ],
   "source": [
    "outputs[0]==outputs[2][-1]"
   ]
  },
  {
   "cell_type": "code",
   "execution_count": null,
   "id": "9a393ef3-2ecb-46eb-8640-121827bf01a3",
   "metadata": {},
   "outputs": [],
   "source": []
  }
 ],
 "metadata": {
  "kernelspec": {
   "display_name": "Python (3.10Venv)",
   "language": "python",
   "name": "venv"
  },
  "language_info": {
   "codemirror_mode": {
    "name": "ipython",
    "version": 3
   },
   "file_extension": ".py",
   "mimetype": "text/x-python",
   "name": "python",
   "nbconvert_exporter": "python",
   "pygments_lexer": "ipython3",
   "version": "3.10.5"
  }
 },
 "nbformat": 4,
 "nbformat_minor": 5
}
