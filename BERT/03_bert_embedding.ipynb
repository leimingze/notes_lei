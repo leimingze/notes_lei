{
 "cells": [
  {
   "cell_type": "markdown",
   "id": "3348ca62-ebd9-48e4-b6e8-591631739498",
   "metadata": {},
   "source": [
    "# summary\n",
    "- bert input embedding:一种查表操作(lookup table)\n",
    "    - 查表\n",
    "      - token embeddings:30522*768\n",
    "      - segment embeddings:2*768\n",
    "      - position embeddings:512*768\n",
    "    - 后处理\n",
    "      - layer norm\n",
    "      - dropout"
   ]
  },
  {
   "cell_type": "code",
   "execution_count": 1,
   "id": "68776a50-053b-4b55-a47a-ff89924f0133",
   "metadata": {},
   "outputs": [],
   "source": [
    "from transformers import BertTokenizer,BertModel\n",
    "import torch\n",
    "from torch import nn"
   ]
  },
  {
   "cell_type": "code",
   "execution_count": 5,
   "id": "d8fe38b1-c6b4-4bd3-b665-bec73f32dfd5",
   "metadata": {},
   "outputs": [],
   "source": [
    "model_name='bert-base-uncased'\n",
    "tokenizer=BertTokenizer.from_pretrained(model_name)\n",
    "model=BertModel.from_pretrained(model_name)"
   ]
  },
  {
   "cell_type": "code",
   "execution_count": 6,
   "id": "837d5267-0642-4f15-819d-d459ff694e52",
   "metadata": {},
   "outputs": [],
   "source": [
    "test_sent='this is a test sentence'"
   ]
  },
  {
   "cell_type": "code",
   "execution_count": 7,
   "id": "a0af3220-7ac0-4946-ac87-a5c6ef8de82c",
   "metadata": {},
   "outputs": [],
   "source": [
    "input = tokenizer(test_sent,return_tensors='pt')"
   ]
  },
  {
   "cell_type": "code",
   "execution_count": 11,
   "id": "2d39946d-89e5-4508-a2f7-7a970867491b",
   "metadata": {},
   "outputs": [],
   "source": [
    "input_ids=input.get('input_ids')\n",
    "token_type_ids=input.get('token_type_ids')"
   ]
  },
  {
   "cell_type": "code",
   "execution_count": 13,
   "id": "11b82782-4307-407f-827c-20627a183311",
   "metadata": {},
   "outputs": [],
   "source": [
    "pos_ids=torch.arange(input_ids.shape[1])"
   ]
  },
  {
   "cell_type": "code",
   "execution_count": 14,
   "id": "ccffb7fb-e825-4bf3-878d-bb0fc12ac513",
   "metadata": {},
   "outputs": [
    {
     "data": {
      "text/plain": [
       "tensor([0, 1, 2, 3, 4, 5, 6])"
      ]
     },
     "execution_count": 14,
     "metadata": {},
     "output_type": "execute_result"
    }
   ],
   "source": [
    "pos_ids"
   ]
  },
  {
   "cell_type": "markdown",
   "id": "12984f87-d159-46db-b43d-3049096b96e2",
   "metadata": {},
   "source": [
    "# token embedding"
   ]
  },
  {
   "cell_type": "code",
   "execution_count": 15,
   "id": "2bace911-2b1a-466e-ac39-62768b9e512b",
   "metadata": {},
   "outputs": [],
   "source": [
    "token_embed=model.embeddings.word_embeddings(input_ids)"
   ]
  },
  {
   "cell_type": "code",
   "execution_count": 26,
   "id": "01b18fe0-779f-463f-9210-c13efbaf8cea",
   "metadata": {},
   "outputs": [
    {
     "data": {
      "text/plain": [
       "torch.Size([1, 7, 768])"
      ]
     },
     "execution_count": 26,
     "metadata": {},
     "output_type": "execute_result"
    }
   ],
   "source": [
    "token_embed.shape"
   ]
  },
  {
   "cell_type": "markdown",
   "id": "5a2ee9b5-b391-43b5-b2ea-ee1e307d92e2",
   "metadata": {},
   "source": [
    "# segment type embedding"
   ]
  },
  {
   "cell_type": "code",
   "execution_count": 18,
   "id": "e9f0daf6-ae83-41b3-a886-63175cb45f5a",
   "metadata": {},
   "outputs": [],
   "source": [
    "seg_embed=model.embeddings.token_type_embeddings(token_type_ids)"
   ]
  },
  {
   "cell_type": "code",
   "execution_count": 24,
   "id": "2e141caa-f9e4-4ac5-b08a-1a8b9d0ba874",
   "metadata": {},
   "outputs": [
    {
     "data": {
      "text/plain": [
       "torch.Size([1, 7, 768])"
      ]
     },
     "execution_count": 24,
     "metadata": {},
     "output_type": "execute_result"
    }
   ],
   "source": [
    "seg_embed.shape"
   ]
  },
  {
   "cell_type": "markdown",
   "id": "a098fae7-52f0-4819-82a4-5ed1f44522a9",
   "metadata": {},
   "source": [
    "# pos embedding"
   ]
  },
  {
   "cell_type": "code",
   "execution_count": 20,
   "id": "514f1e8f-c21e-4f9f-92b4-a54ad74326bd",
   "metadata": {},
   "outputs": [],
   "source": [
    "pos_embed=model.embeddings.position_embeddings(pos_ids)"
   ]
  },
  {
   "cell_type": "code",
   "execution_count": 25,
   "id": "c3bb9645-5802-47ab-8aa6-e1db886eaf38",
   "metadata": {},
   "outputs": [
    {
     "data": {
      "text/plain": [
       "torch.Size([7, 768])"
      ]
     },
     "execution_count": 25,
     "metadata": {},
     "output_type": "execute_result"
    }
   ],
   "source": [
    "pos_embed.shape"
   ]
  },
  {
   "cell_type": "markdown",
   "id": "202588d6-b830-4326-bc10-60b0add78fe7",
   "metadata": {},
   "source": [
    "# input embedding"
   ]
  },
  {
   "cell_type": "code",
   "execution_count": 30,
   "id": "1eec883e-a73b-42ea-9f50-d15ca8e81bad",
   "metadata": {},
   "outputs": [],
   "source": [
    "input_embed=token_embed+seg_embed+pos_embed.unsqueeze(0)"
   ]
  },
  {
   "cell_type": "code",
   "execution_count": 31,
   "id": "5286f07b-546f-4cd5-8311-35eac5214c97",
   "metadata": {},
   "outputs": [
    {
     "data": {
      "text/plain": [
       "tensor([[[ 0.0316, -0.0411, -0.0564,  ...,  0.0021,  0.0044,  0.0219],\n",
       "         [-0.0489,  0.0285, -0.0204,  ...,  0.0190,  0.0265, -0.0045],\n",
       "         [-0.0469, -0.0156, -0.0336,  ...,  0.0117,  0.0135,  0.0109],\n",
       "         ...,\n",
       "         [ 0.0185, -0.0608, -0.0331,  ...,  0.0040, -0.0071, -0.1213],\n",
       "         [ 0.0294, -0.0017, -0.0217,  ..., -0.0004, -0.0913, -0.0948],\n",
       "         [-0.0077, -0.0166, -0.0123,  ..., -0.0310,  0.0124, -0.0064]]],\n",
       "       grad_fn=<AddBackward0>)"
      ]
     },
     "execution_count": 31,
     "metadata": {},
     "output_type": "execute_result"
    }
   ],
   "source": [
    "input_embed"
   ]
  },
  {
   "cell_type": "code",
   "execution_count": null,
   "id": "08326bc4-9358-42f7-abd8-16b6980e498a",
   "metadata": {},
   "outputs": [],
   "source": []
  }
 ],
 "metadata": {
  "kernelspec": {
   "display_name": "Python (3.10Venv)",
   "language": "python",
   "name": "venv"
  },
  "language_info": {
   "codemirror_mode": {
    "name": "ipython",
    "version": 3
   },
   "file_extension": ".py",
   "mimetype": "text/x-python",
   "name": "python",
   "nbconvert_exporter": "python",
   "pygments_lexer": "ipython3",
   "version": "3.10.5"
  }
 },
 "nbformat": 4,
 "nbformat_minor": 5
}
