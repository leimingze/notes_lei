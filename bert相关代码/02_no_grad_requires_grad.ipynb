{
 "cells": [
  {
   "cell_type": "markdown",
   "id": "f80f8759-5f9e-4a6d-8b8a-2991cbc511d8",
   "metadata": {},
   "source": [
    "## torch.no_grad() vs param.requires_grad\n",
    "- torch.no_grad()\n",
    "    - 定义了一个上下文管理器，隐式地不进行梯度更新，不会改变requires_grad\n",
    "    - 通用于value阶段，或model forward 的过程中某些模块不更新梯度的模块（此时仅进行前向计算，不反向更新）\n",
    "- param.requires_grad\n",
    "    - 显式地frozen掉一些module(layer)的梯度更新\n",
    "    - layer/module 级别\n",
    "    - 可能会更灵活"
   ]
  },
  {
   "cell_type": "code",
   "execution_count": 1,
   "id": "2819dad3-d0cf-4bbb-bb80-35c7de57dbe4",
   "metadata": {},
   "outputs": [],
   "source": [
    "from transformers import BertModel\n",
    "import torch\n",
    "from torch import nn"
   ]
  },
  {
   "cell_type": "code",
   "execution_count": 2,
   "id": "4f3f2ecb-5462-4820-bdd0-572431984c67",
   "metadata": {},
   "outputs": [],
   "source": [
    "model_name='bert-base-uncased'"
   ]
  },
  {
   "cell_type": "code",
   "execution_count": 3,
   "id": "b88b99eb-b3dd-4229-aeba-ed823430dce4",
   "metadata": {},
   "outputs": [],
   "source": [
    "bert=BertModel.from_pretrained(model_name)"
   ]
  },
  {
   "cell_type": "code",
   "execution_count": 4,
   "id": "b3ba1515-526e-45c3-8157-b2c925c30892",
   "metadata": {},
   "outputs": [],
   "source": [
    "def calc_learnable_params(model):\n",
    "    total_param=0\n",
    "    for name,param in model.named_parameters():# 遍历所有参数\n",
    "        if param.requires_grad:# 只统计需要梯度的参数\n",
    "            total_param+=param.numel()# 累加参数数量\n",
    "    return total_param"
   ]
  },
  {
   "cell_type": "code",
   "execution_count": 5,
   "id": "b11583ba-0314-4cc0-b8a9-6000e90dfa4e",
   "metadata": {},
   "outputs": [
    {
     "data": {
      "text/plain": [
       "109482240"
      ]
     },
     "execution_count": 5,
     "metadata": {},
     "output_type": "execute_result"
    }
   ],
   "source": [
    "calc_learnable_params(bert)"
   ]
  },
  {
   "cell_type": "code",
   "execution_count": 6,
   "id": "dcf1474f-d2d3-4ecf-82fc-9a48d9ff7459",
   "metadata": {},
   "outputs": [
    {
     "name": "stdout",
     "output_type": "stream",
     "text": [
      "109482240\n"
     ]
    }
   ],
   "source": [
    "with torch.no_grad():\n",
    "    print(calc_learnable_params(bert))"
   ]
  },
  {
   "cell_type": "code",
   "execution_count": 8,
   "id": "d6805a47-7b02-4677-b8bd-cb00e910b2e2",
   "metadata": {},
   "outputs": [
    {
     "data": {
      "text/plain": [
       "0"
      ]
     },
     "execution_count": 8,
     "metadata": {},
     "output_type": "execute_result"
    }
   ],
   "source": [
    "for name,param in bert.named_parameters():\n",
    "    if param.requires_grad:\n",
    "        param.requires_grad=False\n",
    "calc_learnable_params(bert)"
   ]
  },
  {
   "cell_type": "code",
   "execution_count": null,
   "id": "6d4908cf-59b9-4434-bde1-af9eb2913c11",
   "metadata": {},
   "outputs": [],
   "source": []
  }
 ],
 "metadata": {
  "kernelspec": {
   "display_name": "Python (3.10Venv)",
   "language": "python",
   "name": "venv"
  },
  "language_info": {
   "codemirror_mode": {
    "name": "ipython",
    "version": 3
   },
   "file_extension": ".py",
   "mimetype": "text/x-python",
   "name": "python",
   "nbconvert_exporter": "python",
   "pygments_lexer": "ipython3",
   "version": "3.10.5"
  }
 },
 "nbformat": 4,
 "nbformat_minor": 5
}
